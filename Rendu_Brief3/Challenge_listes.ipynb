{
 "cells": [
  {
   "cell_type": "code",
   "execution_count": 7,
   "id": "80ecff24-1861-4f61-9a96-79103ac004ca",
   "metadata": {},
   "outputs": [
    {
     "name": "stdout",
     "output_type": "stream",
     "text": [
      "[125000, 135000, 145000, 155000, 165000, 175000, 185000, 195000, 205000, 215000, 225000, 235000, 245000, 255000, 265000, 275000, 285000, 295000, 305000, 315000, 325000, 335000, 345000, 355000, 365000, 375000, 385000, 395000, 405000, 415000, 425000, 435000, 445000, 455000, 465000, 475000, 485000, 495000, 505000, 515000, 525000, 535000, 545000, 555000, 565000, 575000, 585000, 595000, 605000, 615000, 625000, 635000, 645000, 655000, 665000, 675000, 685000, 695000]\n"
     ]
    }
   ],
   "source": [
    "prix_de_58_maisons = list(range(125000, 700000, 10000 ))\n",
    "print(prix_de_58_maisons)\n"
   ]
  },
  {
   "cell_type": "code",
   "execution_count": 8,
   "id": "55c62b26-0761-4806-a238-2741fd2b183b",
   "metadata": {
    "tags": []
   },
   "outputs": [
    {
     "data": {
      "text/plain": [
       "58"
      ]
     },
     "execution_count": 8,
     "metadata": {},
     "output_type": "execute_result"
    }
   ],
   "source": [
    "len(prix_de_58_maisons)"
   ]
  },
  {
   "cell_type": "code",
   "execution_count": 17,
   "id": "f29e283c-ae13-45a1-ba45-3b69246a3fb7",
   "metadata": {},
   "outputs": [],
   "source": [
    "#question2\n",
    "compteur = 0\n",
    "for prix in range(125000, 700000, 10000):\n",
    "    if prix >= 300000:\n",
    "        compteur += 1    \n",
    "    "
   ]
  },
  {
   "cell_type": "code",
   "execution_count": 18,
   "id": "63e41b71-4be3-4fd1-90c0-000ac8fdb19f",
   "metadata": {},
   "outputs": [
    {
     "name": "stdout",
     "output_type": "stream",
     "text": [
      "40\n"
     ]
    }
   ],
   "source": [
    "print(compteur)"
   ]
  },
  {
   "cell_type": "code",
   "execution_count": 23,
   "id": "3cf6f862-4bb8-4f8a-a481-cdcde241e09d",
   "metadata": {},
   "outputs": [],
   "source": [
    "#question3\n",
    "compteur3 = 0\n",
    "for prix in range (125000, 700000, 10000):\n",
    "    if prix >250000 and prix <400000:\n",
    "        compteur3 += 1\n",
    "        "
   ]
  },
  {
   "cell_type": "code",
   "execution_count": 24,
   "id": "72ce9fd4-d07a-4ea7-bf11-1599ee0da00f",
   "metadata": {},
   "outputs": [
    {
     "name": "stdout",
     "output_type": "stream",
     "text": [
      "15\n"
     ]
    }
   ],
   "source": [
    "print(compteur3)"
   ]
  },
  {
   "cell_type": "code",
   "execution_count": 25,
   "id": "ad95bad4-65f3-4296-aa21-089a9b6bcef5",
   "metadata": {},
   "outputs": [],
   "source": [
    "#question4\n",
    "compteur4 = 0\n",
    "for prix in range (125000, 700000, 10000):\n",
    "    if prix < 600000:\n",
    "        compteur4 += 1"
   ]
  },
  {
   "cell_type": "code",
   "execution_count": 26,
   "id": "55c74309-85c3-4344-a964-dfade66e50e7",
   "metadata": {},
   "outputs": [
    {
     "name": "stdout",
     "output_type": "stream",
     "text": [
      "48\n"
     ]
    }
   ],
   "source": [
    "print(compteur4)"
   ]
  },
  {
   "cell_type": "code",
   "execution_count": 27,
   "id": "b2ebfa95-21ed-4688-b10a-4b05275486f0",
   "metadata": {},
   "outputs": [],
   "source": [
    "#question5\n",
    "compteur5 = 0\n",
    "for prix in range (125000, 700000, 10000):\n",
    "    if prix <150000 or prix > 650000:\n",
    "        compteur5 += 1"
   ]
  },
  {
   "cell_type": "code",
   "execution_count": 28,
   "id": "9665cda9-2e29-4e3c-aca3-be8c149c25db",
   "metadata": {},
   "outputs": [
    {
     "name": "stdout",
     "output_type": "stream",
     "text": [
      "8\n"
     ]
    }
   ],
   "source": [
    "print(compteur5)"
   ]
  },
  {
   "cell_type": "code",
   "execution_count": null,
   "id": "16f7337c-ad4a-4c38-84b4-43002954cc99",
   "metadata": {},
   "outputs": [],
   "source": []
  }
 ],
 "metadata": {
  "kernelspec": {
   "display_name": "Python 3 (ipykernel)",
   "language": "python",
   "name": "python3"
  },
  "language_info": {
   "codemirror_mode": {
    "name": "ipython",
    "version": 3
   },
   "file_extension": ".py",
   "mimetype": "text/x-python",
   "name": "python",
   "nbconvert_exporter": "python",
   "pygments_lexer": "ipython3",
   "version": "3.9.12"
  }
 },
 "nbformat": 4,
 "nbformat_minor": 5
}
