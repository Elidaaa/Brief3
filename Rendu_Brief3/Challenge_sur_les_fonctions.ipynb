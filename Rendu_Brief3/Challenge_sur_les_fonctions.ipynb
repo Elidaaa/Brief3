{
 "cells": [
  {
   "cell_type": "code",
   "execution_count": 18,
   "id": "e51fc534",
   "metadata": {},
   "outputs": [],
   "source": [
    "#Calculer la variance d'une liste:\n",
    "\n",
    "liste = [2, 7, 3, 12, 9]\n",
    "\n",
    "def variance(x):\n",
    "    m = sum(x)/len(x)\n",
    "    variance = sum((xi - m) ** 2 for xi in x ) / len(x)\n",
    "    x = liste\n",
    "    return variance\n",
    "\n"
   ]
  },
  {
   "cell_type": "code",
   "execution_count": 19,
   "id": "1a0b89d8",
   "metadata": {},
   "outputs": [
    {
     "name": "stdout",
     "output_type": "stream",
     "text": [
      "13.84\n"
     ]
    }
   ],
   "source": [
    "print(variance(liste))"
   ]
  },
  {
   "cell_type": "code",
   "execution_count": 20,
   "id": "c554fa23",
   "metadata": {},
   "outputs": [],
   "source": [
    "#Pour calculer l'écart-type, soit la racine carrée de la variance obtenue précedemment:\n",
    "\n",
    "def ecart_type(x):\n",
    "    return variance(x) ** (0.5)"
   ]
  },
  {
   "cell_type": "code",
   "execution_count": 21,
   "id": "5f2bc8e8",
   "metadata": {},
   "outputs": [
    {
     "name": "stdout",
     "output_type": "stream",
     "text": [
      "3.7202150475476548\n"
     ]
    }
   ],
   "source": [
    "print(ecart_type(liste))"
   ]
  },
  {
   "cell_type": "code",
   "execution_count": null,
   "id": "8531faad",
   "metadata": {},
   "outputs": [],
   "source": []
  },
  {
   "cell_type": "code",
   "execution_count": 22,
   "id": "2ec9cd87",
   "metadata": {},
   "outputs": [],
   "source": [
    "#Calculer la moyenne d'une liste:\n",
    "\n",
    "liste = [1, 2, 3, 4, 7, 9, 12, 15]\n",
    "liste2 = [31, 52, 70]\n",
    "\n",
    "def moyenne(x):\n",
    "    sum(x)\n",
    "    len(x)\n",
    "    return sum(x)/len(x)\n",
    "x = liste\n"
   ]
  },
  {
   "cell_type": "code",
   "execution_count": 23,
   "id": "5540f7d3",
   "metadata": {},
   "outputs": [
    {
     "name": "stdout",
     "output_type": "stream",
     "text": [
      "6.625\n"
     ]
    }
   ],
   "source": [
    "print(moyenne(liste))"
   ]
  },
  {
   "cell_type": "code",
   "execution_count": 24,
   "id": "3fe315ab",
   "metadata": {},
   "outputs": [
    {
     "name": "stdout",
     "output_type": "stream",
     "text": [
      "51.0\n"
     ]
    }
   ],
   "source": [
    "print(moyenne(liste2))"
   ]
  },
  {
   "cell_type": "code",
   "execution_count": null,
   "id": "4c4c36ef",
   "metadata": {},
   "outputs": [],
   "source": []
  },
  {
   "cell_type": "code",
   "execution_count": 25,
   "id": "8227d652",
   "metadata": {},
   "outputs": [],
   "source": [
    "#Calculer la médiane d'une liste:\n",
    "\n",
    "liste_1 = [1, 4, 5, 3, 2]\n",
    "liste_2 = [1, 2, 4, 6, 7, 9]\n",
    "liste_3 = [3, 9, 6, 1, 2, 4, 8, 10]\n",
    "\n",
    "def median(x):\n",
    "    n = len(x)\n",
    "    x.sort()\n",
    "    if n % 2 == 0:\n",
    "        median1 = x[n//2]\n",
    "        median2 = x[n//2-1]\n",
    "        return (median1 + median2)/2\n",
    "    else:\n",
    "        return x[n//2]\n"
   ]
  },
  {
   "cell_type": "code",
   "execution_count": 26,
   "id": "dab4015f",
   "metadata": {},
   "outputs": [
    {
     "name": "stdout",
     "output_type": "stream",
     "text": [
      "3\n"
     ]
    }
   ],
   "source": [
    "x = liste_1\n",
    "print(median(liste_1))"
   ]
  },
  {
   "cell_type": "code",
   "execution_count": 27,
   "id": "71a589ed",
   "metadata": {},
   "outputs": [
    {
     "name": "stdout",
     "output_type": "stream",
     "text": [
      "5.0\n"
     ]
    }
   ],
   "source": [
    "x = liste_2\n",
    "print(median(liste_2))"
   ]
  },
  {
   "cell_type": "code",
   "execution_count": 28,
   "id": "8ea75197",
   "metadata": {},
   "outputs": [
    {
     "name": "stdout",
     "output_type": "stream",
     "text": [
      "5.0\n"
     ]
    }
   ],
   "source": [
    "x = liste_3\n",
    "print(median(liste_3))"
   ]
  },
  {
   "cell_type": "code",
   "execution_count": null,
   "id": "fce8296c",
   "metadata": {},
   "outputs": [],
   "source": []
  }
 ],
 "metadata": {
  "kernelspec": {
   "display_name": "Python 3 (ipykernel)",
   "language": "python",
   "name": "python3"
  },
  "language_info": {
   "codemirror_mode": {
    "name": "ipython",
    "version": 3
   },
   "file_extension": ".py",
   "mimetype": "text/x-python",
   "name": "python",
   "nbconvert_exporter": "python",
   "pygments_lexer": "ipython3",
   "version": "3.9.12"
  }
 },
 "nbformat": 4,
 "nbformat_minor": 5
}
