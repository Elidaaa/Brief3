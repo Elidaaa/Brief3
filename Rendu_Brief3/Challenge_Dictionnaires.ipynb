{
 "cells": [
  {
   "cell_type": "code",
   "execution_count": 1,
   "id": "b84392b7-8bc2-4ee3-b0a5-39c64f6c8104",
   "metadata": {},
   "outputs": [],
   "source": [
    "#Question1 : créer un dictionnaire nommé ventes_commerciaux contenant les ventes suivantes :\n",
    "#Marie:15; Samuel:17;  Gaston:12;  Fred:10; Mae:5;  Julie:15; Zoe:7; Claire:20; Chloe:8; Julien:14;Gael:9; Samia:15; Omar:11; Gabriel:16; Manon: 2\n",
    "\n",
    "\n",
    "ventes_commerciaux = {\"Marie\":15, \"Samuel\":17, \"Gaston\":12, \"Fred\":10, \"Mae\":5, \"Julie\":15, \"Zoe\":7, \"Claire\":20, \"Chloe\":8, \"Julien\":14, \"Gael\":9, \"Omar\":11, \"Gabriel\":16, \"Manon\":2}\n"
   ]
  },
  {
   "cell_type": "code",
   "execution_count": 2,
   "id": "dde57682-7b04-462c-9242-53e1d1ce0c80",
   "metadata": {},
   "outputs": [
    {
     "data": {
      "text/plain": [
       "{'Marie': 15,\n",
       " 'Samuel': 17,\n",
       " 'Gaston': 12,\n",
       " 'Fred': 10,\n",
       " 'Mae': 5,\n",
       " 'Julie': 15,\n",
       " 'Zoe': 7,\n",
       " 'Claire': 20,\n",
       " 'Chloe': 8,\n",
       " 'Julien': 14,\n",
       " 'Gael': 9,\n",
       " 'Omar': 11,\n",
       " 'Gabriel': 16,\n",
       " 'Manon': 2}"
      ]
     },
     "execution_count": 2,
     "metadata": {},
     "output_type": "execute_result"
    }
   ],
   "source": [
    "ventes_commerciaux"
   ]
  },
  {
   "cell_type": "code",
   "execution_count": 19,
   "id": "77bd9c2b-f250-445f-870e-a4eee404ee51",
   "metadata": {},
   "outputs": [
    {
     "data": {
      "text/plain": [
       "dict_values([15, 17, 12, 10, 5, 15, 7, 20, 8, 14, 9, 11, 16, 2])"
      ]
     },
     "execution_count": 19,
     "metadata": {},
     "output_type": "execute_result"
    }
   ],
   "source": [
    "#Question2 : quelle est la moyenne des ventes ? \n",
    "\n",
    "ventes_commerciaux.values()"
   ]
  },
  {
   "cell_type": "code",
   "execution_count": 20,
   "id": "3a7a492a-febd-4170-abb7-1e3f17c22752",
   "metadata": {},
   "outputs": [],
   "source": [
    "liste = ventes_commerciaux.values()"
   ]
  },
  {
   "cell_type": "code",
   "execution_count": 21,
   "id": "2d8ab189-4ecd-43b6-9ccd-75deed23eabb",
   "metadata": {},
   "outputs": [
    {
     "data": {
      "text/plain": [
       "dict_values([15, 17, 12, 10, 5, 15, 7, 20, 8, 14, 9, 11, 16, 2])"
      ]
     },
     "execution_count": 21,
     "metadata": {},
     "output_type": "execute_result"
    }
   ],
   "source": [
    "liste"
   ]
  },
  {
   "cell_type": "code",
   "execution_count": 22,
   "id": "06661af6-9482-4b3e-bd16-97d7e58c7a46",
   "metadata": {},
   "outputs": [],
   "source": [
    "def moyenne(x):\n",
    "    sum(x)\n",
    "    len(x)\n",
    "    return sum(x)/len(x)\n",
    "x = liste"
   ]
  },
  {
   "cell_type": "code",
   "execution_count": 23,
   "id": "6a51c312-2fcf-4d8d-be4e-f5432709e2c0",
   "metadata": {},
   "outputs": [
    {
     "name": "stdout",
     "output_type": "stream",
     "text": [
      "11.5\n"
     ]
    }
   ],
   "source": [
    "print(moyenne(liste))"
   ]
  },
  {
   "cell_type": "code",
   "execution_count": 24,
   "id": "2642c6b2-fee3-4dfc-991f-e7657630bad8",
   "metadata": {},
   "outputs": [],
   "source": [
    "#La moyenne des ventes est de 11.5"
   ]
  },
  {
   "cell_type": "code",
   "execution_count": 29,
   "id": "d54166c3-f977-4e4f-b60a-4a08ffcff36b",
   "metadata": {},
   "outputs": [
    {
     "data": {
      "text/plain": [
       "14"
      ]
     },
     "execution_count": 29,
     "metadata": {},
     "output_type": "execute_result"
    }
   ],
   "source": [
    "#Question3: afficher le nombre total de vendeurs\n",
    "\n",
    "len(ventes_commerciaux)"
   ]
  },
  {
   "cell_type": "code",
   "execution_count": 30,
   "id": "db54bc7b-7d34-42b2-8499-6972f2832fa9",
   "metadata": {},
   "outputs": [],
   "source": [
    "#Il y a 14 vendeurs au total."
   ]
  },
  {
   "cell_type": "code",
   "execution_count": 96,
   "id": "e4dece7c-da56-46c4-82e9-85f31b9d0117",
   "metadata": {},
   "outputs": [
    {
     "name": "stdout",
     "output_type": "stream",
     "text": [
      "Marie 15\n",
      "Samuel 17\n",
      "Gaston 12\n",
      "Julie 15\n",
      "Claire 20\n",
      "Julien 14\n",
      "Gabriel 16\n"
     ]
    }
   ],
   "source": [
    "#Question4 : combien de commerciaux ont un nombre de ventes strictement supérieur à la moyenne ?\n",
    "#Astuce: utiliser la fonction (méthode) items() d’un dictionnaire pour récupérer les clés et les valeurs en même temps\n",
    "\n",
    "for cle,valeur in ventes_commerciaux.items():\n",
    "    if valeur > 11.5:\n",
    "        print (cle, valeur)\n"
   ]
  },
  {
   "cell_type": "code",
   "execution_count": 77,
   "id": "0ac7bb17-837e-487b-836e-4de67688a9f8",
   "metadata": {},
   "outputs": [],
   "source": [
    "#Il y a 7 commerciaux qui ont un nombre de ventes strictement supérieur à la moyenne."
   ]
  },
  {
   "cell_type": "code",
   "execution_count": 78,
   "id": "2b112e20-89b5-4a89-b942-8ee1098f21db",
   "metadata": {},
   "outputs": [
    {
     "name": "stdout",
     "output_type": "stream",
     "text": [
      "Claire\n"
     ]
    }
   ],
   "source": [
    "#Question5 : Quel est le prénom du meilleur vendeur ?  \n",
    "#Astuce: utiliser la fonction (méthode) keys() d’un dictionnaire pour récupérer les clés d’un dictionnaire\n",
    "\n",
    "for cle,valeur in ventes_commerciaux.items():\n",
    "    if valeur >= 20:\n",
    "        print (cle)"
   ]
  },
  {
   "cell_type": "code",
   "execution_count": 79,
   "id": "94d0a803-70ef-4710-9533-9873778af51c",
   "metadata": {},
   "outputs": [],
   "source": [
    "#Le prénom du meilleur vendeur est Claire"
   ]
  },
  {
   "cell_type": "code",
   "execution_count": 89,
   "id": "4fdb260f-0f55-419b-b35b-6a7c336a6d53",
   "metadata": {},
   "outputs": [
    {
     "name": "stdout",
     "output_type": "stream",
     "text": [
      "Mae\n",
      "Zoe\n"
     ]
    }
   ],
   "source": [
    "#Question6 : Combien de vendeurs ont un prénom avec strictement moins de 4 lettres?\n",
    "\n",
    "for cle in ventes_commerciaux.keys():\n",
    "    if len(cle) < 4:\n",
    "        print(cle)\n"
   ]
  },
  {
   "cell_type": "code",
   "execution_count": 90,
   "id": "bb9c381d-df4b-4c80-9462-65dc9e0d0763",
   "metadata": {},
   "outputs": [],
   "source": [
    "#Il y a 2 vendeurs qui ont un prénom avec strictement moins de 4 lettres : Mae et Zoe"
   ]
  },
  {
   "cell_type": "code",
   "execution_count": 95,
   "id": "fc0ff2ae-fa73-438e-95f7-ea30e721972b",
   "metadata": {},
   "outputs": [
    {
     "name": "stdout",
     "output_type": "stream",
     "text": [
      "Gaston\n",
      "Fred\n",
      "Claire\n",
      "Chloe\n",
      "Julien\n",
      "Gabriel\n",
      "Manon\n"
     ]
    }
   ],
   "source": [
    "#Question7 : afficher les prénoms des vendeurs qui ont un nombre de ventes pair (multiple de 2)\n",
    "\n",
    "for cle,valeur in ventes_commerciaux.items():\n",
    "    if valeur % 2 == 0 :\n",
    "        print (cle)\n",
    "\n"
   ]
  },
  {
   "cell_type": "code",
   "execution_count": null,
   "id": "591b985f-ba4f-4fac-8d2e-a088453d28c4",
   "metadata": {},
   "outputs": [],
   "source": []
  },
  {
   "cell_type": "code",
   "execution_count": null,
   "id": "444c3767-a123-42aa-a42a-fc6a5bbf93a1",
   "metadata": {},
   "outputs": [],
   "source": []
  }
 ],
 "metadata": {
  "kernelspec": {
   "display_name": "Python 3 (ipykernel)",
   "language": "python",
   "name": "python3"
  },
  "language_info": {
   "codemirror_mode": {
    "name": "ipython",
    "version": 3
   },
   "file_extension": ".py",
   "mimetype": "text/x-python",
   "name": "python",
   "nbconvert_exporter": "python",
   "pygments_lexer": "ipython3",
   "version": "3.9.12"
  }
 },
 "nbformat": 4,
 "nbformat_minor": 5
}
